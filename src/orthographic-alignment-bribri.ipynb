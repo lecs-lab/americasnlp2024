{
 "cells": [
  {
   "cell_type": "markdown",
   "id": "acf7b9b8",
   "metadata": {},
   "source": [
    "Let's try to set up a simple alignment between the orthography of the gold standard Bribri data we have and an external dataset we found. It's from https://github.com/rolandocoto/bribri-coling2020"
   ]
  },
  {
   "cell_type": "code",
   "execution_count": 1,
   "id": "a16d0aa5",
   "metadata": {},
   "outputs": [],
   "source": [
    "import pandas as pd"
   ]
  },
  {
   "cell_type": "code",
   "execution_count": 102,
   "id": "83587779",
   "metadata": {},
   "outputs": [],
   "source": [
    "coling_data = pd.read_csv(\"../data/extra_monolingual/spa-bribri-coling2020.txt\", sep=';')"
   ]
  },
  {
   "cell_type": "code",
   "execution_count": 103,
   "id": "7d1f4306",
   "metadata": {},
   "outputs": [
    {
     "data": {
      "text/plain": [
       "Order                                                                  1224\n",
       "Bribri (Nasal as line)                            pà mâ̱tk wö́kir mâ̱tk\n",
       "Training sentence                                     pà mâxtk wóqkir mâxtk\n",
       "Spanish                                            lapa roja de cabeza roja\n",
       "Source                    CorpusSofia B14h54m43s24oct2015.html Sobre la ...\n",
       "Dialect                                                              amubri\n",
       "Name: 2, dtype: object"
      ]
     },
     "execution_count": 103,
     "metadata": {},
     "output_type": "execute_result"
    }
   ],
   "source": [
    "coling_data.iloc[2]"
   ]
  },
  {
   "cell_type": "code",
   "execution_count": 104,
   "id": "a09baf1b",
   "metadata": {},
   "outputs": [
    {
     "data": {
      "text/plain": [
       "array(['amubri', 'salitre', 'coroma'], dtype=object)"
      ]
     },
     "execution_count": 104,
     "metadata": {},
     "output_type": "execute_result"
    }
   ],
   "source": [
    "coling_data['Dialect'].unique()"
   ]
  },
  {
   "cell_type": "code",
   "execution_count": 105,
   "id": "5569302d",
   "metadata": {},
   "outputs": [],
   "source": [
    "# we only care about the training text\n",
    "coling_data_bribri = coling_data['Training sentence']"
   ]
  },
  {
   "cell_type": "code",
   "execution_count": 25,
   "id": "db6e6a87",
   "metadata": {},
   "outputs": [],
   "source": [
    "all_text_coling = \" \".join(coling_data_bribri)"
   ]
  },
  {
   "cell_type": "code",
   "execution_count": 14,
   "id": "174124be",
   "metadata": {},
   "outputs": [],
   "source": [
    "# Load the gold standard data\n",
    "\n",
    "gold_data = pd.read_csv(\"../data/yoyodyne/bribri-train.tsv\", sep='\\t')"
   ]
  },
  {
   "cell_type": "code",
   "execution_count": 17,
   "id": "f23c1c42",
   "metadata": {},
   "outputs": [],
   "source": [
    "all_text_gold = \" \".join(gold_data.iloc[:,0] + gold_data.iloc[:,1])"
   ]
  },
  {
   "cell_type": "code",
   "execution_count": 21,
   "id": "c292017c",
   "metadata": {},
   "outputs": [],
   "source": [
    "gold_character_set = set([x for x in all_text_gold.lower()])"
   ]
  },
  {
   "cell_type": "code",
   "execution_count": 22,
   "id": "0075d58e",
   "metadata": {
    "scrolled": true
   },
   "outputs": [
    {
     "data": {
      "text/plain": [
       "{' ',\n",
       " '!',\n",
       " \"'\",\n",
       " 'a',\n",
       " 'b',\n",
       " 'c',\n",
       " 'd',\n",
       " 'e',\n",
       " 'h',\n",
       " 'i',\n",
       " 'j',\n",
       " 'k',\n",
       " 'l',\n",
       " 'm',\n",
       " 'n',\n",
       " 'o',\n",
       " 'p',\n",
       " 'r',\n",
       " 's',\n",
       " 't',\n",
       " 'u',\n",
       " 'w',\n",
       " 'y',\n",
       " 'à',\n",
       " 'á',\n",
       " 'â',\n",
       " 'è',\n",
       " 'é',\n",
       " 'ë',\n",
       " 'ì',\n",
       " 'í',\n",
       " 'ñ',\n",
       " 'ò',\n",
       " 'ó',\n",
       " 'ö',\n",
       " 'ù',\n",
       " 'ú',\n",
       " '̀',\n",
       " '́',\n",
       " '̠'}"
      ]
     },
     "execution_count": 22,
     "metadata": {},
     "output_type": "execute_result"
    }
   ],
   "source": [
    "gold_character_set"
   ]
  },
  {
   "cell_type": "code",
   "execution_count": 26,
   "id": "469d9879",
   "metadata": {},
   "outputs": [],
   "source": [
    "character_set_coling = set([x for x in all_text_coling.lower()])"
   ]
  },
  {
   "cell_type": "code",
   "execution_count": 84,
   "id": "5fc06e5f",
   "metadata": {},
   "outputs": [],
   "source": [
    "only_in_coling = character_set_coling - gold_character_set\n",
    "only_in_gold = gold_character_set - character_set_coling"
   ]
  },
  {
   "cell_type": "code",
   "execution_count": 85,
   "id": "42867a52",
   "metadata": {},
   "outputs": [
    {
     "data": {
      "text/plain": [
       "{'́', '̠'}"
      ]
     },
     "execution_count": 85,
     "metadata": {},
     "output_type": "execute_result"
    }
   ],
   "source": [
    "only_in_gold"
   ]
  },
  {
   "cell_type": "code",
   "execution_count": 29,
   "id": "e76e5991",
   "metadata": {},
   "outputs": [
    {
     "data": {
      "text/plain": [
       "{'\"',\n",
       " '*',\n",
       " ',',\n",
       " '.',\n",
       " '0',\n",
       " ':',\n",
       " '?',\n",
       " '[',\n",
       " ']',\n",
       " 'g',\n",
       " 'q',\n",
       " 'v',\n",
       " 'x',\n",
       " 'z',\n",
       " 'ã',\n",
       " 'ê',\n",
       " 'î',\n",
       " 'ô',\n",
       " 'õ',\n",
       " 'û',\n",
       " 'ĩ',\n",
       " 'ũ',\n",
       " '̈',\n",
       " '̱',\n",
       " 'ẽ'}"
      ]
     },
     "execution_count": 29,
     "metadata": {},
     "output_type": "execute_result"
    }
   ],
   "source": [
    "only_in_coling"
   ]
  },
  {
   "cell_type": "code",
   "execution_count": 30,
   "id": "7cad47e2",
   "metadata": {},
   "outputs": [],
   "source": [
    "only_in_gold =  gold_character_set - character_set_coling"
   ]
  },
  {
   "cell_type": "code",
   "execution_count": 31,
   "id": "930d5ebb",
   "metadata": {},
   "outputs": [
    {
     "data": {
      "text/plain": [
       "{'́', '̠'}"
      ]
     },
     "execution_count": 31,
     "metadata": {},
     "output_type": "execute_result"
    }
   ],
   "source": [
    "only_in_gold"
   ]
  },
  {
   "cell_type": "code",
   "execution_count": 32,
   "id": "f4fac9dc",
   "metadata": {},
   "outputs": [],
   "source": [
    "def build_ngrams(full_text, n=3):\n",
    "    n_grams = []\n",
    "    split_text = full_text.split()\n",
    "    for word in split_text:\n",
    "        if len(word) >= n:\n",
    "            n_grams.extend([word[i:i+n] for i in range(len(word) - n + 1)])\n",
    "    \n",
    "    return n_grams\n",
    "        "
   ]
  },
  {
   "cell_type": "code",
   "execution_count": 33,
   "id": "2434ed33",
   "metadata": {},
   "outputs": [],
   "source": [
    "all_text_coling = all_text_coling.lower()\n",
    "all_text_gold = all_text_gold.lower()"
   ]
  },
  {
   "cell_type": "code",
   "execution_count": 34,
   "id": "94a763c4",
   "metadata": {},
   "outputs": [],
   "source": [
    "coling_ngrams = build_ngrams(all_text_coling)"
   ]
  },
  {
   "cell_type": "code",
   "execution_count": 35,
   "id": "063b6a2b",
   "metadata": {},
   "outputs": [],
   "source": [
    "gold_ngrams = build_ngrams(all_text_gold)"
   ]
  },
  {
   "cell_type": "code",
   "execution_count": 36,
   "id": "93334b73",
   "metadata": {},
   "outputs": [],
   "source": [
    "from collections import Counter"
   ]
  },
  {
   "cell_type": "code",
   "execution_count": 38,
   "id": "51ea7f8a",
   "metadata": {},
   "outputs": [],
   "source": [
    "gold_count_ngrams = Counter(gold_ngrams)\n",
    "coling_count_ngrams = Counter(coling_ngrams)"
   ]
  },
  {
   "cell_type": "code",
   "execution_count": 51,
   "id": "73fecdf9",
   "metadata": {},
   "outputs": [],
   "source": [
    "most_common_gold = [x[0] for x in gold_count_ngrams.most_common(50)]\n",
    "most_common_coling = [x[0] for x in coling_count_ngrams.most_common(1000)]"
   ]
  },
  {
   "cell_type": "code",
   "execution_count": 52,
   "id": "0c8c0510",
   "metadata": {},
   "outputs": [],
   "source": [
    "only_gold = set(most_common_gold) - set(most_common_coling)"
   ]
  },
  {
   "cell_type": "code",
   "execution_count": 53,
   "id": "b45690bc",
   "metadata": {},
   "outputs": [
    {
     "data": {
      "text/plain": [
       "25"
      ]
     },
     "execution_count": 53,
     "metadata": {},
     "output_type": "execute_result"
    }
   ],
   "source": [
    "len(only_gold)"
   ]
  },
  {
   "cell_type": "code",
   "execution_count": 54,
   "id": "0479326e",
   "metadata": {},
   "outputs": [
    {
     "data": {
      "text/plain": [
       "{\"'be\",\n",
       " \"'rë\",\n",
       " \"'ye\",\n",
       " \"bi'\",\n",
       " \"e̠'\",\n",
       " 'ku̠',\n",
       " 'kàs',\n",
       " 'kë̀',\n",
       " \"kö'\",\n",
       " 'kö̀',\n",
       " 'kö́',\n",
       " 'mi̠',\n",
       " 'ne̠',\n",
       " \"o't\",\n",
       " \"po'\",\n",
       " 'ros',\n",
       " 'skö',\n",
       " 'sík',\n",
       " 'ta̠',\n",
       " 'tó̠',\n",
       " 'wa̠',\n",
       " 'àrr',\n",
       " 'è̠k',\n",
       " 'ñè̠',\n",
       " 'ö́k'}"
      ]
     },
     "execution_count": 54,
     "metadata": {},
     "output_type": "execute_result"
    }
   ],
   "source": [
    "only_gold"
   ]
  },
  {
   "cell_type": "code",
   "execution_count": 55,
   "id": "f4d9d1e7",
   "metadata": {},
   "outputs": [],
   "source": [
    "all_text_gold = all_text_gold.replace(\".\",\"\")\n",
    "all_text_coling = all_text_coling.replace(\".\",\"\")"
   ]
  },
  {
   "cell_type": "code",
   "execution_count": 80,
   "id": "2d0c2c57",
   "metadata": {},
   "outputs": [],
   "source": [
    "ye_words = list(set([word for word in all_text_gold.split(\" \") if 'kím' in word]))"
   ]
  },
  {
   "cell_type": "code",
   "execution_count": 81,
   "id": "68897fc8",
   "metadata": {},
   "outputs": [
    {
     "data": {
      "text/plain": [
       "['kímu̠k', \"kíme̠'i\", \"kíme̠'ye'\", 'kímè̠ke']"
      ]
     },
     "execution_count": 81,
     "metadata": {},
     "output_type": "execute_result"
    }
   ],
   "source": [
    "ye_words"
   ]
  },
  {
   "cell_type": "code",
   "execution_count": 82,
   "id": "e57a03f7",
   "metadata": {},
   "outputs": [],
   "source": [
    "shka_words = [word for word in all_text_coling.split(\" \") if \"kím\" in word]"
   ]
  },
  {
   "cell_type": "code",
   "execution_count": 83,
   "id": "161c2337",
   "metadata": {},
   "outputs": [
    {
     "data": {
      "text/plain": [
       "['kímèxkẽ', 'kímũk', 'kímũkdak']"
      ]
     },
     "execution_count": 83,
     "metadata": {},
     "output_type": "execute_result"
    }
   ],
   "source": [
    "sorted(list(set(shka_words)))"
   ]
  },
  {
   "cell_type": "code",
   "execution_count": 90,
   "id": "a79c222c",
   "metadata": {},
   "outputs": [],
   "source": [
    "def contains_foreign_character(text):\n",
    "    for char in text:\n",
    "        if char not in gold_character_set:\n",
    "            return True\n",
    "        \n",
    "    return False\n",
    "\n",
    "def not_foreign(text):\n",
    "    return not contains_foreign_character(text)"
   ]
  },
  {
   "cell_type": "code",
   "execution_count": 106,
   "id": "d4f36212",
   "metadata": {},
   "outputs": [],
   "source": [
    "import regex\n",
    "def remove_non_alphabetic(row):\n",
    "    text = row['Training sentence']\n",
    "    row['Training sentence'] =  regex.sub(r'\\P{L}+', ' ', text)\n",
    "    return row"
   ]
  },
  {
   "cell_type": "code",
   "execution_count": 107,
   "id": "d59811f4",
   "metadata": {},
   "outputs": [],
   "source": [
    "coling_data = coling_data.apply(remove_non_alphabetic, axis=1)"
   ]
  },
  {
   "cell_type": "code",
   "execution_count": 116,
   "id": "f92104bd",
   "metadata": {},
   "outputs": [],
   "source": [
    "coling_data_train = coling_data['Training sentence']"
   ]
  },
  {
   "cell_type": "code",
   "execution_count": 122,
   "id": "eacdb04e",
   "metadata": {},
   "outputs": [],
   "source": [
    "all_coling_train_words = \" \".join(coling_data_train).lower().split(\" \")"
   ]
  },
  {
   "cell_type": "code",
   "execution_count": 127,
   "id": "f9f620e7",
   "metadata": {},
   "outputs": [
    {
     "data": {
      "text/plain": [
       "['ñéx', 'ñéxse', 'ñéxjkë', 'ñéxes', 'ñéxe', 'ñéxẽ', 'nãñéxwe']"
      ]
     },
     "execution_count": 127,
     "metadata": {},
     "output_type": "execute_result"
    }
   ],
   "source": [
    "words_of_interest = list(set([word for word in all_coling_train_words if 'ñé' in word]))\n",
    "words_of_interest"
   ]
  },
  {
   "cell_type": "code",
   "execution_count": null,
   "id": "c4ab51a2",
   "metadata": {},
   "outputs": [],
   "source": []
  },
  {
   "cell_type": "code",
   "execution_count": null,
   "id": "f02b4349",
   "metadata": {},
   "outputs": [],
   "source": [
    "# ã > a̠?"
   ]
  },
  {
   "cell_type": "code",
   "execution_count": 112,
   "id": "af631f23",
   "metadata": {},
   "outputs": [],
   "source": [
    "coling_data_filtered = coling_data[coling_data['Bribri (Nasal as line)'].apply(not_foreign)]"
   ]
  },
  {
   "cell_type": "code",
   "execution_count": 113,
   "id": "07d77d58",
   "metadata": {},
   "outputs": [
    {
     "data": {
      "text/plain": [
       "array(['amubri', 'salitre', 'coroma'], dtype=object)"
      ]
     },
     "execution_count": 113,
     "metadata": {},
     "output_type": "execute_result"
    }
   ],
   "source": [
    "coling_data_filtered['Dialect'].unique()"
   ]
  },
  {
   "cell_type": "code",
   "execution_count": 114,
   "id": "59e1131e",
   "metadata": {},
   "outputs": [
    {
     "data": {
      "text/plain": [
       "54"
      ]
     },
     "execution_count": 114,
     "metadata": {},
     "output_type": "execute_result"
    }
   ],
   "source": [
    "len(coling_data_filtered)"
   ]
  },
  {
   "cell_type": "code",
   "execution_count": 111,
   "id": "de4baebf",
   "metadata": {},
   "outputs": [
    {
     "data": {
      "text/html": [
       "<div>\n",
       "<style scoped>\n",
       "    .dataframe tbody tr th:only-of-type {\n",
       "        vertical-align: middle;\n",
       "    }\n",
       "\n",
       "    .dataframe tbody tr th {\n",
       "        vertical-align: top;\n",
       "    }\n",
       "\n",
       "    .dataframe thead th {\n",
       "        text-align: right;\n",
       "    }\n",
       "</style>\n",
       "<table border=\"1\" class=\"dataframe\">\n",
       "  <thead>\n",
       "    <tr style=\"text-align: right;\">\n",
       "      <th></th>\n",
       "      <th>Order</th>\n",
       "      <th>Bribri (Nasal as line)</th>\n",
       "      <th>Training sentence</th>\n",
       "      <th>Spanish</th>\n",
       "      <th>Source</th>\n",
       "      <th>Dialect</th>\n",
       "    </tr>\n",
       "  </thead>\n",
       "  <tbody>\n",
       "    <tr>\n",
       "      <th>43</th>\n",
       "      <td>1265</td>\n",
       "      <td>chkè kuá, dikó kuá, tsiru' kuá, kápi kua...</td>\n",
       "      <td>chkè kuá dikó kuá tsiru kuá kápi kuá chkè kuá</td>\n",
       "      <td>plantas comestibles , pejibaye , cacao , café...</td>\n",
       "      <td>CorpusSofia B15h53m37s18jul2014.html Sobre el ...</td>\n",
       "      <td>salitre</td>\n",
       "    </tr>\n",
       "    <tr>\n",
       "      <th>61</th>\n",
       "      <td>1283</td>\n",
       "      <td>i' dör sa' ùsulë</td>\n",
       "      <td>i dör sa ùsulë</td>\n",
       "      <td>esta es nuestra casa cónica</td>\n",
       "      <td>CorpusSofia B17h34m15s06apr2012.html Sobre el ...</td>\n",
       "      <td>amubri</td>\n",
       "    </tr>\n",
       "    <tr>\n",
       "      <th>78</th>\n",
       "      <td>1300</td>\n",
       "      <td>e' dör</td>\n",
       "      <td>e dör</td>\n",
       "      <td>eso es</td>\n",
       "      <td>CorpusSofia B17h34m15s06apr2012.html Sobre el ...</td>\n",
       "      <td>amubri</td>\n",
       "    </tr>\n",
       "    <tr>\n",
       "      <th>140</th>\n",
       "      <td>1362</td>\n",
       "      <td>té kókó \"entonces ya\"</td>\n",
       "      <td>té kókó entonces ya</td>\n",
       "      <td>cortado \" kó kó \" entonces ya</td>\n",
       "      <td>CorpusSofia B10h27m47s25oct2015.html Sobre la ...</td>\n",
       "      <td>amubri</td>\n",
       "    </tr>\n",
       "    <tr>\n",
       "      <th>157</th>\n",
       "      <td>1379</td>\n",
       "      <td>e's</td>\n",
       "      <td>e s</td>\n",
       "      <td>así</td>\n",
       "      <td>CorpusSofia B10h27m47s25oct2015.html Sobre la ...</td>\n",
       "      <td>amubri</td>\n",
       "    </tr>\n",
       "    <tr>\n",
       "      <th>...</th>\n",
       "      <td>...</td>\n",
       "      <td>...</td>\n",
       "      <td>...</td>\n",
       "      <td>...</td>\n",
       "      <td>...</td>\n",
       "      <td>...</td>\n",
       "    </tr>\n",
       "    <tr>\n",
       "      <th>1623</th>\n",
       "      <td>2845</td>\n",
       "      <td>e', e' tsikír</td>\n",
       "      <td>e e tsikír</td>\n",
       "      <td>eso , eso se está cosechando</td>\n",
       "      <td>CorpusSofia B12h41m01s14jul2016.html Conversac...</td>\n",
       "      <td>amubri</td>\n",
       "    </tr>\n",
       "    <tr>\n",
       "      <th>1632</th>\n",
       "      <td>2854</td>\n",
       "      <td>e's</td>\n",
       "      <td>e s</td>\n",
       "      <td>así</td>\n",
       "      <td>CorpusSofia B12h41m01s14jul2016.html Conversac...</td>\n",
       "      <td>amubri</td>\n",
       "    </tr>\n",
       "    <tr>\n",
       "      <th>1636</th>\n",
       "      <td>2858</td>\n",
       "      <td>wé</td>\n",
       "      <td>wé</td>\n",
       "      <td>molido</td>\n",
       "      <td>CorpusSofia B22h25m38s07apr2012.html Conversac...</td>\n",
       "      <td>amubri</td>\n",
       "    </tr>\n",
       "    <tr>\n",
       "      <th>1650</th>\n",
       "      <td>2872</td>\n",
       "      <td>ya yé, yétke</td>\n",
       "      <td>ya yé yétke</td>\n",
       "      <td>ya se toma , ya se toma</td>\n",
       "      <td>CorpusSofia B22h25m38s07apr2012.html Conversac...</td>\n",
       "      <td>amubri</td>\n",
       "    </tr>\n",
       "    <tr>\n",
       "      <th>1651</th>\n",
       "      <td>2873</td>\n",
       "      <td>i yéwa</td>\n",
       "      <td>i yéwa</td>\n",
       "      <td>se toma</td>\n",
       "      <td>CorpusSofia B22h25m38s07apr2012.html Conversac...</td>\n",
       "      <td>amubri</td>\n",
       "    </tr>\n",
       "  </tbody>\n",
       "</table>\n",
       "<p>117 rows × 6 columns</p>\n",
       "</div>"
      ],
      "text/plain": [
       "      Order                             Bribri (Nasal as line)  \\\n",
       "43     1265  chkè kuá, dikó kuá, tsiru' kuá, kápi kua...   \n",
       "61     1283                                i' dör sa' ùsulë   \n",
       "78     1300                                            e' dör   \n",
       "140    1362                           té kókó \"entonces ya\"   \n",
       "157    1379                                                e's   \n",
       "...     ...                                                ...   \n",
       "1623   2845                                     e', e' tsikír   \n",
       "1632   2854                                                e's   \n",
       "1636   2858                                                wé   \n",
       "1650   2872                                     ya yé, yétke   \n",
       "1651   2873                                            i yéwa   \n",
       "\n",
       "                                  Training sentence  \\\n",
       "43    chkè kuá dikó kuá tsiru kuá kápi kuá chkè kuá   \n",
       "61                                   i dör sa ùsulë   \n",
       "78                                            e dör   \n",
       "140                            té kókó entonces ya    \n",
       "157                                             e s   \n",
       "...                                             ...   \n",
       "1623                                     e e tsikír   \n",
       "1632                                            e s   \n",
       "1636                                             wé   \n",
       "1650                                    ya yé yétke   \n",
       "1651                                         i yéwa   \n",
       "\n",
       "                                                Spanish  \\\n",
       "43    plantas comestibles , pejibaye , cacao , café...   \n",
       "61                          esta es nuestra casa cónica   \n",
       "78                                               eso es   \n",
       "140                     cortado \" kó kó \" entonces ya   \n",
       "157                                                así   \n",
       "...                                                 ...   \n",
       "1623                       eso , eso se está cosechando   \n",
       "1632                                               así   \n",
       "1636                                             molido   \n",
       "1650                            ya se toma , ya se toma   \n",
       "1651                                            se toma   \n",
       "\n",
       "                                                 Source  Dialect  \n",
       "43    CorpusSofia B15h53m37s18jul2014.html Sobre el ...  salitre  \n",
       "61    CorpusSofia B17h34m15s06apr2012.html Sobre el ...   amubri  \n",
       "78    CorpusSofia B17h34m15s06apr2012.html Sobre el ...   amubri  \n",
       "140   CorpusSofia B10h27m47s25oct2015.html Sobre la ...   amubri  \n",
       "157   CorpusSofia B10h27m47s25oct2015.html Sobre la ...   amubri  \n",
       "...                                                 ...      ...  \n",
       "1623  CorpusSofia B12h41m01s14jul2016.html Conversac...   amubri  \n",
       "1632  CorpusSofia B12h41m01s14jul2016.html Conversac...   amubri  \n",
       "1636  CorpusSofia B22h25m38s07apr2012.html Conversac...   amubri  \n",
       "1650  CorpusSofia B22h25m38s07apr2012.html Conversac...   amubri  \n",
       "1651  CorpusSofia B22h25m38s07apr2012.html Conversac...   amubri  \n",
       "\n",
       "[117 rows x 6 columns]"
      ]
     },
     "execution_count": 111,
     "metadata": {},
     "output_type": "execute_result"
    }
   ],
   "source": [
    "coling_data_filtered"
   ]
  },
  {
   "cell_type": "code",
   "execution_count": 129,
   "id": "1549dca0",
   "metadata": {},
   "outputs": [],
   "source": [
    "# what about the other shared task data?\n",
    "\n",
    "bribri_st2_data = []\n",
    "with open(\"../data/extra_monolingual/train.bzd\", encoding='utf-8') as infile:\n",
    "    bribri_st2_data = infile.readlines()"
   ]
  },
  {
   "cell_type": "code",
   "execution_count": 130,
   "id": "714452cb",
   "metadata": {},
   "outputs": [
    {
     "data": {
      "text/plain": [
       "[\"Ye' shkèxnã bua'ë.\\n\",\n",
       " \"Ye' dör bikâkala.\\n\",\n",
       " \"Ìs a' shkèxnã?\\n\",\n",
       " \"Sa' shkèxnã bua'ë.\\n\",\n",
       " \"Ìs be' shkèxnã?\\n\",\n",
       " \"Ye' shkèxnã bua'ë.\\n\",\n",
       " \"Ye' dör Juan.\\n\",\n",
       " \"Íxmã be' kie?\\n\",\n",
       " \"Ye' kie Juan.\\n\",\n",
       " 'Àxã!\\n']"
      ]
     },
     "execution_count": 130,
     "metadata": {},
     "output_type": "execute_result"
    }
   ],
   "source": [
    "bribri_st2_data[:10]"
   ]
  },
  {
   "cell_type": "code",
   "execution_count": 131,
   "id": "6e0e09a2",
   "metadata": {},
   "outputs": [
    {
     "data": {
      "text/plain": [
       "7508"
      ]
     },
     "execution_count": 131,
     "metadata": {},
     "output_type": "execute_result"
    }
   ],
   "source": [
    "len(bribri_st2_data)"
   ]
  },
  {
   "cell_type": "code",
   "execution_count": 137,
   "id": "c978924a",
   "metadata": {},
   "outputs": [
    {
     "data": {
      "text/plain": [
       "557"
      ]
     },
     "execution_count": 137,
     "metadata": {},
     "output_type": "execute_result"
    }
   ],
   "source": [
    "# Seems pretty reasonable, but let's at least see what might be out-of-domain for the alphabet\n",
    "bribri_st2_data = [x.strip().lower() for x in bribri_st2_data]\n",
    "cleaned_bribri_st2 = [x for x in bribri_st2_data if not contains_foreign_character(x)]\n",
    "len(cleaned_bribri_st2)"
   ]
  },
  {
   "cell_type": "code",
   "execution_count": 135,
   "id": "393391d4",
   "metadata": {},
   "outputs": [
    {
     "data": {
      "text/plain": [
       "[\"ye' ù\",\n",
       " 'aláköl ù',\n",
       " 'dìwö kúl',\n",
       " \"yi ya'\",\n",
       " 'ya ù',\n",
       " 'awá kàl',\n",
       " 'awá kél',\n",
       " 'dalì we',\n",
       " \"stsa'wö we\",\n",
       " 'dakarò we']"
      ]
     },
     "execution_count": 135,
     "metadata": {},
     "output_type": "execute_result"
    }
   ],
   "source": [
    "cleaned_bribri_st2[:10]"
   ]
  },
  {
   "cell_type": "code",
   "execution_count": null,
   "id": "5a4ca86a",
   "metadata": {},
   "outputs": [],
   "source": [
    "# What characters are in this set that aren't present in our gold standard data?\n",
    "\n",
    "all_bribri_st2 = \" \".join(bribri_st2_data)\n",
    "foreign_chars = [x for x in all_bribri_st2 if x not in gold_ch]"
   ]
  }
 ],
 "metadata": {
  "kernelspec": {
   "display_name": "Python 3 (ipykernel)",
   "language": "python",
   "name": "python3"
  },
  "language_info": {
   "codemirror_mode": {
    "name": "ipython",
    "version": 3
   },
   "file_extension": ".py",
   "mimetype": "text/x-python",
   "name": "python",
   "nbconvert_exporter": "python",
   "pygments_lexer": "ipython3",
   "version": "3.11.2"
  }
 },
 "nbformat": 4,
 "nbformat_minor": 5
}
